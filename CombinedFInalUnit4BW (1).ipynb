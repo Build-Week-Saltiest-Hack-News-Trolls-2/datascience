{
  "nbformat": 4,
  "nbformat_minor": 0,
  "metadata": {
    "colab": {
      "name": "CombinedFInalUnit4BW.ipynb",
      "provenance": [],
      "collapsed_sections": []
    },
    "kernelspec": {
      "name": "python3",
      "display_name": "Python 3"
    }
  },
  "cells": [
    {
      "cell_type": "code",
      "metadata": {
        "id": "lBNOQZHf_dwf",
        "colab_type": "code",
        "outputId": "15bd8e97-2e4b-4078-8f8c-a7eb1ed89e95",
        "colab": {
          "base_uri": "https://localhost:8080/",
          "height": 102
        }
      },
      "source": [
        "#imports\n",
        "import pandas as pd\n",
        "import numpy as np\n",
        "import matplotlib.pyplot as plt\n",
        "import nltk\n",
        "import random\n",
        "import re\n",
        "from nltk import word_tokenize, sent_tokenize\n",
        "from nltk.corpus import stopwords\n",
        "from nltk.stem import LancasterStemmer, WordNetLemmatizer, PorterStemmer\n",
        "from wordcloud import WordCloud, STOPWORDS\n",
        "from textblob import TextBlob,Word, Blobber\n",
        "nltk.download('stopwords')\n",
        "from nltk.sentiment.vader import SentimentIntensityAnalyzer\n",
        "from sklearn.metrics import f1_score, accuracy_score\n",
        "import html\n",
        "from html.parser import HTMLParser"
      ],
      "execution_count": 0,
      "outputs": [
        {
          "output_type": "stream",
          "text": [
            "[nltk_data] Downloading package stopwords to /root/nltk_data...\n",
            "[nltk_data]   Package stopwords is already up-to-date!\n"
          ],
          "name": "stdout"
        },
        {
          "output_type": "stream",
          "text": [
            "/usr/local/lib/python3.6/dist-packages/nltk/twitter/__init__.py:20: UserWarning: The twython library has not been installed. Some functionality from the twitter package will not be available.\n",
            "  warnings.warn(\"The twython library has not been installed. \"\n"
          ],
          "name": "stderr"
        }
      ]
    },
    {
      "cell_type": "code",
      "metadata": {
        "id": "xVB6s8NT_nj4",
        "colab_type": "code",
        "outputId": "7c781941-86fc-49f3-ec4a-9a16a3d4289a",
        "colab": {
          "base_uri": "https://localhost:8080/",
          "height": 191
        }
      },
      "source": [
        "#read in data:\n",
        "df = pd.read_csv('saltyhacker.csv')\n",
        "\n",
        "df.head(5)"
      ],
      "execution_count": 0,
      "outputs": [
        {
          "output_type": "execute_result",
          "data": {
            "text/html": [
              "<div>\n",
              "<style scoped>\n",
              "    .dataframe tbody tr th:only-of-type {\n",
              "        vertical-align: middle;\n",
              "    }\n",
              "\n",
              "    .dataframe tbody tr th {\n",
              "        vertical-align: top;\n",
              "    }\n",
              "\n",
              "    .dataframe thead th {\n",
              "        text-align: right;\n",
              "    }\n",
              "</style>\n",
              "<table border=\"1\" class=\"dataframe\">\n",
              "  <thead>\n",
              "    <tr style=\"text-align: right;\">\n",
              "      <th></th>\n",
              "      <th>Unnamed: 0</th>\n",
              "      <th>User</th>\n",
              "      <th>Text</th>\n",
              "    </tr>\n",
              "  </thead>\n",
              "  <tbody>\n",
              "    <tr>\n",
              "      <th>0</th>\n",
              "      <td>0</td>\n",
              "      <td>thu2111</td>\n",
              "      <td>Did those people criticise other epidemiologis...</td>\n",
              "    </tr>\n",
              "    <tr>\n",
              "      <th>1</th>\n",
              "      <td>1</td>\n",
              "      <td>noisy_boy</td>\n",
              "      <td>I like Aliexpress because most of the times I ...</td>\n",
              "    </tr>\n",
              "    <tr>\n",
              "      <th>2</th>\n",
              "      <td>2</td>\n",
              "      <td>lopis</td>\n",
              "      <td>Doesn&amp;#x27;t really matter. The progression of...</td>\n",
              "    </tr>\n",
              "    <tr>\n",
              "      <th>3</th>\n",
              "      <td>3</td>\n",
              "      <td>aexol</td>\n",
              "      <td>I have added docs generator for GraphQL Editor...</td>\n",
              "    </tr>\n",
              "    <tr>\n",
              "      <th>4</th>\n",
              "      <td>4</td>\n",
              "      <td>frockington1</td>\n",
              "      <td>I haven;t seen any non sensationalized evidenc...</td>\n",
              "    </tr>\n",
              "  </tbody>\n",
              "</table>\n",
              "</div>"
            ],
            "text/plain": [
              "   Unnamed: 0          User                                               Text\n",
              "0           0       thu2111  Did those people criticise other epidemiologis...\n",
              "1           1     noisy_boy  I like Aliexpress because most of the times I ...\n",
              "2           2         lopis  Doesn&#x27;t really matter. The progression of...\n",
              "3           3         aexol  I have added docs generator for GraphQL Editor...\n",
              "4           4  frockington1  I haven;t seen any non sensationalized evidenc..."
            ]
          },
          "metadata": {
            "tags": []
          },
          "execution_count": 2
        }
      ]
    },
    {
      "cell_type": "code",
      "metadata": {
        "id": "jktjE4AgfAjD",
        "colab_type": "code",
        "colab": {}
      },
      "source": [
        "#convert to string\n",
        "df['Text'] = df['Text'].astype(str)"
      ],
      "execution_count": 0,
      "outputs": []
    },
    {
      "cell_type": "code",
      "metadata": {
        "id": "LkSCG5b4_6Wu",
        "colab_type": "code",
        "outputId": "ac57218b-92a7-422e-a845-293f4ca14f9b",
        "colab": {
          "base_uri": "https://localhost:8080/",
          "height": 367
        }
      },
      "source": [
        "def cleanup_html(raw_html):\n",
        "    clean_html = re.sub(r'<.*?>', '', raw_html)\n",
        "    clean_html_http = re.sub(r'http\\S+([\\.]{3})?', '', clean_html)\n",
        "    clean_txt = html.unescape(clean_html)\n",
        "    return clean_txt\n",
        "df['Text'] = df['Text'].apply(cleanup_html)\n",
        "df.sample(10)\n",
        "for row in df['Text'].sample(10):\n",
        "    print(row)\n",
        "    print()"
      ],
      "execution_count": 0,
      "outputs": [
        {
          "output_type": "stream",
          "text": [
            "But these three things are super easy with hooks, maybe even easier so than with class components.\n",
            "\n",
            "To me, the biggest thing that makes AirPods unique is that they look pretty weird. The Google ones don't, so I see them as clearly differentiated from AirPods.\n",
            "\n",
            "First of all, the outcome doesn't speak to the Constitutionality. Maybe the Constitution, as is, doesn't produce the outcomes we want, and Article V lays out a process to amend the Constitution. The outcome of a SCOTUS decision is \"wrong\" insofar as it incorrectly determines the legality of something, not whether or not it produces politically unfavorable outcomes.Second of all, in practice, the influence of money in politics is overstated.Hillary Clinton outspent[1][2] Donald Trump by 2x in the 2016 election, and still lost. In fact, she had far more corporate backing[3][4] than Donald Trump, and still lost.In the 2020 Democratic Primaries, Michael Bloomberg spent $1 billion[5] (!!) on his campaign, and won just 9.4% of the popular vote (1.38% of pledged delegates).Tom Steyer (a no-name billionaire), spent $343 million[6] on his election, and won a humiliating 0.38% of the popular vote (0% of pledged delegates). Interestingly, you would think he would have at least 1/3 of Bloomberg's vote, which suggests that the vast majority of the variance in Bloomberg's vote share can be attributed to his existing name recognition as a famous businessman/politician.Bernie Sanders spent $195 million[7] on his election, having spent less than Bloomberg + Steyer and while having handily beaten both. Joe Biden spent $105 million[8] on his campaign, less than Bernie, and still beat him by 3 million votes.Elizabeth Warren spent $121.31 million[9] on her campaign, and also handily beat Bloomberg + Steyer while having spent far less than them, while losing to Biden while having spent more than him.Those are just the anecdotes (of which there are many more).Decades of research[10] suggest that money probably isn’t the deciding factor in who wins a general election, and especially not for incumbents. Most of the research in the last century found[11] that spending didn’t affect wins for incumbents and that the impact for challengers was unclear[12]. Even the studies[13] that showed spending having the biggest effect, like one that found a more than 6 percent increase in vote share for incumbents, didn’t demonstrate that money actually causes wins. In fact, those gains from spending likely translate to less of an advantage today, in a time period where voters are more stridently partisan. There are probably fewer and fewer people who are going to change their vote because they liked your ad.So this argument is dubious both legally as well as prescriptively.[1] https://www.opensecrets.org/pres16/candidate?id=n00000019[2] https://www.opensecrets.org/pres16/candidate?id=n00023864[3] https://www.opensecrets.org/pres16/contributors?id=n00000019[4] https://www.opensecrets.org/pres16/contributors?id=n00023864[5] https://www.opensecrets.org/2020-presidential-race/candidate...[6] https://www.opensecrets.org/2020-presidential-race/candidate...[7] https://www.opensecrets.org/2020-presidential-race/candidate...[8] https://www.opensecrets.org/2020-presidential-race/candidate...[9] https://www.opensecrets.org/2020-presidential-race/candidate...[10] https://papers.ssrn.com/sol3/papers.cfm?abstract_id=2605401[11] http://journals.sagepub.com/doi/10.1177/0002764203260415[12] https://www.jstor.org/stable/2138764?seq=1#metadata_info_tab...[13] http://www.sas.rochester.edu/psc/clarke/214/Gerber98.pdf\n",
            "\n",
            "I had this issue last year when I started learning D. I eventually got used to it, but it was a stumbling block at first. The #d IRC channel helped me out.\n",
            "\n",
            "preach.  I went from a Samsung Note to a Pixel XL and my god the difference is astounding.  Gonna stick with Pixel from now on.\n",
            "\n",
            "> The dogs will feel no pain from being put to sleep.> Nobody can, will, or wants to even suggest that the children be put to sleep. We will let the children suffer horrible pain before we ever even consider suggesting such a thing.Sounds like the proper solution is to convince people that putting kits to sleep is OK, then...(Not really, but it does seem to follow from your statements)\n",
            "\n",
            "Unfortunately this is true - the Terraform AWS provider has thousands of PRs closed (and hundreds still open) as proof. Nevertheless, things seem to get support quicker in Terraform than in CloudFormation.\n",
            "\n",
            "I thought I'd read that medical errors happen more often when doctors switch over than when (even very tired) doctors work longer.\n",
            "\n",
            "Keybase Chat is audited and widely regarded as secure, but when prodding for details on how key verification works without human verification, people kept telling me that blockchain magic takes care of it. Eventually I did a deep dive and spent some hours trying to find any path through which the keys are reliably verified, resulting in the post as linked.As far as I can tell, there is no key verification possible in the mobile app and it's basically \"trust the server on first use\" (TOFU; details are in the StackExchange question). I'm not saying that this is insecure per se, better use open source Keybase than some of the more popular apps, but they claim it's proper end to end encryption (E2EE). One might argue whether this can perhaps fall within the E2EE definition and shift the discussion to whether we should weaken the definition of E2EE to unambiguously include TOFU, but the question whether my analysis is correct remains: is there a way to verify Keybase's end-to-end encryption between me and a friend, or do I just have to trust the server's initial key?It seems weird for Keybase to make a claim that is not in line with what I think is the common understanding of E2EE, so I'd love if someone else can also read all the docs and post an answer to either confirm it or prove it wrong. Maybe the Keybase authors could chip in, and one of the auditors is also the highest ranked user on the security stackexchange site so I had some hope that he would answer (I also sent him an email). It is now tied for the highest voted unanswered question on the site and someone opened a bounty on the question for more attention but it hasn't elicited answers so far (that's actually why I posted it here for attention: someone with only 100 rep whom I don't know opened a bounty for 50 rep, and I don't want it to go to waste). If someone here knows more, a definitive answer would be welcome!\n",
            "\n",
            "I was surprised when I first went, the people that live there are allowed on 5 of the islands, with the largest island hosting the town of puerto ayora. The town has 10,000 people, and total population of the Galapagos is 30,000 and growing. It’s an interesting place as people move there from the mainland because of the money you can make in tourism, but immigration is tightly controlled due to the negative effect on nature as the towns expand.People first started living in the Galapagos a long time ago, in the 1950s they consolidated everyone into the islands they live today. Interesting history for a place that you’d think was purely natural, but human civilization finds a way I suppose.\n",
            "\n"
          ],
          "name": "stdout"
        }
      ]
    },
    {
      "cell_type": "code",
      "metadata": {
        "id": "HmUrBu0pd3Vz",
        "colab_type": "code",
        "colab": {}
      },
      "source": [
        "class MLStripper(HTMLParser):\n",
        "    def __init__(self):\n",
        "        super().__init__()\n",
        "        self.reset()\n",
        "        self.fed = []\n",
        "    def handle_data(self, d):\n",
        "        self.fed.append(d)\n",
        "    def get_data(self):\n",
        "        return ' '.join(self.fed)\n",
        "\n",
        "\n",
        "def strip_tags(html):\n",
        "    s = MLStripper()\n",
        "    s.feed(html)\n",
        "    return s.get_data()"
      ],
      "execution_count": 0,
      "outputs": []
    },
    {
      "cell_type": "code",
      "metadata": {
        "id": "rlcPd0kf_8hR",
        "colab_type": "code",
        "colab": {}
      },
      "source": [
        "df['Text']  = df['Text'].apply(html.unescape)"
      ],
      "execution_count": 0,
      "outputs": []
    },
    {
      "cell_type": "code",
      "metadata": {
        "id": "Bemx7xy4AT_e",
        "colab_type": "code",
        "outputId": "30ec2b6f-dbc1-4934-b8c0-a12b9d600a1f",
        "colab": {
          "base_uri": "https://localhost:8080/",
          "height": 33
        }
      },
      "source": [
        "#before converting to lower:\n",
        "df['Text'][77]"
      ],
      "execution_count": 0,
      "outputs": [
        {
          "output_type": "execute_result",
          "data": {
            "text/plain": [
              "'Shoulder pads are back in'"
            ]
          },
          "metadata": {
            "tags": []
          },
          "execution_count": 7
        }
      ]
    },
    {
      "cell_type": "code",
      "metadata": {
        "id": "a7UbUOaZAU6y",
        "colab_type": "code",
        "outputId": "87b22c12-c1a9-4055-e2e6-09060ede9694",
        "colab": {
          "base_uri": "https://localhost:8080/",
          "height": 33
        }
      },
      "source": [
        "#convert to lower case\n",
        "df['Text'] = df['Text'].apply(lambda x: ' '.join(x.lower() for x in x.split()))\n",
        "\n",
        "df['Text'][77]"
      ],
      "execution_count": 0,
      "outputs": [
        {
          "output_type": "execute_result",
          "data": {
            "text/plain": [
              "'shoulder pads are back in'"
            ]
          },
          "metadata": {
            "tags": []
          },
          "execution_count": 8
        }
      ]
    },
    {
      "cell_type": "code",
      "metadata": {
        "id": "8beldDsWAuy5",
        "colab_type": "code",
        "outputId": "5fc35eeb-dff4-4134-8390-8a2898d30282",
        "colab": {
          "base_uri": "https://localhost:8080/",
          "height": 33
        }
      },
      "source": [
        "#stopwords:\n",
        "stop = stopwords.words('english')\n",
        "df['Text'] = df['Text'].apply(lambda x: \" \".join(x for x in x.split() if x not in stop))\n",
        "df['Text'][77]"
      ],
      "execution_count": 0,
      "outputs": [
        {
          "output_type": "execute_result",
          "data": {
            "text/plain": [
              "'shoulder pads back'"
            ]
          },
          "metadata": {
            "tags": []
          },
          "execution_count": 9
        }
      ]
    },
    {
      "cell_type": "code",
      "metadata": {
        "id": "oe7kt8gjA0Yb",
        "colab_type": "code",
        "outputId": "05fdba29-9ec6-4ee7-84c8-f03f29229d3c",
        "colab": {
          "base_uri": "https://localhost:8080/",
          "height": 33
        }
      },
      "source": [
        "#stemming\n",
        "st = PorterStemmer()\n",
        "df['Text'] = df['Text'].apply(lambda x: \" \".join([st.stem(word) for word in x.split()]))\n",
        "df['Text'][77]"
      ],
      "execution_count": 0,
      "outputs": [
        {
          "output_type": "execute_result",
          "data": {
            "text/plain": [
              "'shoulder pad back'"
            ]
          },
          "metadata": {
            "tags": []
          },
          "execution_count": 10
        }
      ]
    },
    {
      "cell_type": "code",
      "metadata": {
        "id": "e-ZoRC8qA749",
        "colab_type": "code",
        "outputId": "e7699a05-4fe5-411e-b1fd-2652b2a2aa2b",
        "colab": {
          "base_uri": "https://localhost:8080/",
          "height": 49
        }
      },
      "source": [
        "#create object\n",
        "nltk.download('vader_lexicon')\n",
        "analyzer = SentimentIntensityAnalyzer()"
      ],
      "execution_count": 0,
      "outputs": [
        {
          "output_type": "stream",
          "text": [
            "[nltk_data] Downloading package vader_lexicon to /root/nltk_data...\n",
            "[nltk_data]   Package vader_lexicon is already up-to-date!\n"
          ],
          "name": "stdout"
        }
      ]
    },
    {
      "cell_type": "code",
      "metadata": {
        "id": "PIry5GLEBK7B",
        "colab_type": "code",
        "colab": {}
      },
      "source": [
        "#define analyzer\n",
        "def vaderize(sentence):\n",
        "    return analyzer.polarity_scores(sentence)"
      ],
      "execution_count": 0,
      "outputs": []
    },
    {
      "cell_type": "code",
      "metadata": {
        "id": "eNIC1-U_BIxv",
        "colab_type": "code",
        "colab": {}
      },
      "source": [
        "df['Scores'] = df['Text'].apply(vaderize)"
      ],
      "execution_count": 0,
      "outputs": []
    },
    {
      "cell_type": "code",
      "metadata": {
        "id": "Ys-Ksk6cBOgq",
        "colab_type": "code",
        "outputId": "1e5b7a24-fbba-4391-cc26-90e25de0778d",
        "colab": {
          "base_uri": "https://localhost:8080/",
          "height": 336
        }
      },
      "source": [
        "#check\n",
        "df.head(10)"
      ],
      "execution_count": 0,
      "outputs": [
        {
          "output_type": "execute_result",
          "data": {
            "text/html": [
              "<div>\n",
              "<style scoped>\n",
              "    .dataframe tbody tr th:only-of-type {\n",
              "        vertical-align: middle;\n",
              "    }\n",
              "\n",
              "    .dataframe tbody tr th {\n",
              "        vertical-align: top;\n",
              "    }\n",
              "\n",
              "    .dataframe thead th {\n",
              "        text-align: right;\n",
              "    }\n",
              "</style>\n",
              "<table border=\"1\" class=\"dataframe\">\n",
              "  <thead>\n",
              "    <tr style=\"text-align: right;\">\n",
              "      <th></th>\n",
              "      <th>Unnamed: 0</th>\n",
              "      <th>User</th>\n",
              "      <th>Text</th>\n",
              "      <th>Scores</th>\n",
              "    </tr>\n",
              "  </thead>\n",
              "  <tbody>\n",
              "    <tr>\n",
              "      <th>0</th>\n",
              "      <td>0</td>\n",
              "      <td>thu2111</td>\n",
              "      <td>peopl criticis epidemiologist same? immedi hol...</td>\n",
              "      <td>{'neg': 0.142, 'neu': 0.828, 'pos': 0.03, 'com...</td>\n",
              "    </tr>\n",
              "    <tr>\n",
              "      <th>1</th>\n",
              "      <td>1</td>\n",
              "      <td>noisy_boy</td>\n",
              "      <td>like aliexpress time even chat manufacturer/di...</td>\n",
              "      <td>{'neg': 0.095, 'neu': 0.838, 'pos': 0.068, 'co...</td>\n",
              "    </tr>\n",
              "    <tr>\n",
              "      <th>2</th>\n",
              "      <td>2</td>\n",
              "      <td>lopis</td>\n",
              "      <td>realli matter. progress season slow enough get...</td>\n",
              "      <td>{'neg': 0.123, 'neu': 0.677, 'pos': 0.201, 'co...</td>\n",
              "    </tr>\n",
              "    <tr>\n",
              "      <th>3</th>\n",
              "      <td>3</td>\n",
              "      <td>aexol</td>\n",
              "      <td>ad doc gener graphql editor. https://twitter.c...</td>\n",
              "      <td>{'neg': 0.0, 'neu': 1.0, 'pos': 0.0, 'compound...</td>\n",
              "    </tr>\n",
              "    <tr>\n",
              "      <th>4</th>\n",
              "      <td>4</td>\n",
              "      <td>frockington1</td>\n",
              "      <td>haven;t seen non sensation evid regard long te...</td>\n",
              "      <td>{'neg': 0.0, 'neu': 1.0, 'pos': 0.0, 'compound...</td>\n",
              "    </tr>\n",
              "    <tr>\n",
              "      <th>5</th>\n",
              "      <td>5</td>\n",
              "      <td>alpaca128</td>\n",
              "      <td>&gt; amazon compani reliabl show they'll deliver,...</td>\n",
              "      <td>{'neg': 0.049, 'neu': 0.841, 'pos': 0.11, 'com...</td>\n",
              "    </tr>\n",
              "    <tr>\n",
              "      <th>6</th>\n",
              "      <td>6</td>\n",
              "      <td>alkonaut</td>\n",
              "      <td>normal water heater?apart simplest model might...</td>\n",
              "      <td>{'neg': 0.0, 'neu': 1.0, 'pos': 0.0, 'compound...</td>\n",
              "    </tr>\n",
              "    <tr>\n",
              "      <th>7</th>\n",
              "      <td>7</td>\n",
              "      <td>giantg2</td>\n",
              "      <td>yes, that' textbook scenario make sens economi...</td>\n",
              "      <td>{'neg': 0.057, 'neu': 0.816, 'pos': 0.127, 'co...</td>\n",
              "    </tr>\n",
              "    <tr>\n",
              "      <th>8</th>\n",
              "      <td>8</td>\n",
              "      <td>9wzYQbTYsAIc</td>\n",
              "      <td>there’ someth javascript length files, group r...</td>\n",
              "      <td>{'neg': 0.0, 'neu': 0.945, 'pos': 0.055, 'comp...</td>\n",
              "    </tr>\n",
              "    <tr>\n",
              "      <th>9</th>\n",
              "      <td>9</td>\n",
              "      <td>Jonnax</td>\n",
              "      <td>would researching?especi databas privat data.</td>\n",
              "      <td>{'neg': 0.0, 'neu': 1.0, 'pos': 0.0, 'compound...</td>\n",
              "    </tr>\n",
              "  </tbody>\n",
              "</table>\n",
              "</div>"
            ],
            "text/plain": [
              "   Unnamed: 0  ...                                             Scores\n",
              "0           0  ...  {'neg': 0.142, 'neu': 0.828, 'pos': 0.03, 'com...\n",
              "1           1  ...  {'neg': 0.095, 'neu': 0.838, 'pos': 0.068, 'co...\n",
              "2           2  ...  {'neg': 0.123, 'neu': 0.677, 'pos': 0.201, 'co...\n",
              "3           3  ...  {'neg': 0.0, 'neu': 1.0, 'pos': 0.0, 'compound...\n",
              "4           4  ...  {'neg': 0.0, 'neu': 1.0, 'pos': 0.0, 'compound...\n",
              "5           5  ...  {'neg': 0.049, 'neu': 0.841, 'pos': 0.11, 'com...\n",
              "6           6  ...  {'neg': 0.0, 'neu': 1.0, 'pos': 0.0, 'compound...\n",
              "7           7  ...  {'neg': 0.057, 'neu': 0.816, 'pos': 0.127, 'co...\n",
              "8           8  ...  {'neg': 0.0, 'neu': 0.945, 'pos': 0.055, 'comp...\n",
              "9           9  ...  {'neg': 0.0, 'neu': 1.0, 'pos': 0.0, 'compound...\n",
              "\n",
              "[10 rows x 4 columns]"
            ]
          },
          "metadata": {
            "tags": []
          },
          "execution_count": 14
        }
      ]
    },
    {
      "cell_type": "code",
      "metadata": {
        "id": "bgih8kziBX8Y",
        "colab_type": "code",
        "colab": {}
      },
      "source": [
        "df[['neg', 'neu', 'pos', 'compound']] = df.Scores.apply(pd.Series)"
      ],
      "execution_count": 0,
      "outputs": []
    },
    {
      "cell_type": "code",
      "metadata": {
        "id": "DPDgYwxXBcLW",
        "colab_type": "code",
        "outputId": "8299bfc0-fcb4-433e-b040-00eb3d8b36f5",
        "colab": {
          "base_uri": "https://localhost:8080/",
          "height": 699
        }
      },
      "source": [
        "#sort\n",
        "for text in df.sort_values(by='neg', ascending=False)['Text'].head(20):\n",
        "    print(text, '\\n')"
      ],
      "execution_count": 0,
      "outputs": [
        {
          "output_type": "stream",
          "text": [
            "no, \n",
            "\n",
            "fuck amp fuck google. \n",
            "\n",
            "need turn alarm though :( \n",
            "\n",
            "hate amazon again? \n",
            "\n",
            "conclusion. could done (arrest spi terrorists). bomb civilian reprehensible, 'safeguarding' terrorist pretti vile. \n",
            "\n",
            "john carreyou: bad blood. \n",
            "\n",
            "stop, we'r done. \n",
            "\n",
            "behavior et compar set kill signal ssh config? sometim kill signal get kill half hour longer. \n",
            "\n",
            "text editor user wrong. \n",
            "\n",
            "lol... keep poor mad... \n",
            "\n",
            "includ death covid-19 total involv similar symptoms. lot problem caus pneumonia cardiac arrest, said pneumonia patient test negative. appar healthi peopl die suddenli time, sadly. \n",
            "\n",
            "softbank massiv fuck one. feel bad current employees. https://news.ycombinator.com/item?id=14783521 \n",
            "\n",
            "beethoven bigger \"piano\". also, littl outrag thread - sadness, resignation, head shake sure, outrage. \n",
            "\n",
            "wouldn’t 256^256? that’ certainli hell haystack \n",
            "\n",
            "patent would reject presum \n",
            "\n",
            "oops, sorry, stupid blunder. thank correction. \n",
            "\n",
            "author writing, section, blind (i.e. path) attacks. given attack model off-path see challeng ack. \n",
            "\n",
            "tri racist, twitter term fake ai startup (start one indian man). \n",
            "\n",
            "22% death offici report india . .. \n",
            "\n",
            "nyc current 1462 death per million. \n",
            "\n"
          ],
          "name": "stdout"
        }
      ]
    },
    {
      "cell_type": "code",
      "metadata": {
        "id": "1tmZAlbEEvEV",
        "colab_type": "code",
        "outputId": "b9632e51-64de-4e0b-b672-87d119c37733",
        "colab": {
          "base_uri": "https://localhost:8080/",
          "height": 518
        }
      },
      "source": [
        "#add len\n",
        "df['len'] = df['Text'].str.len()  \n",
        "df.head(10)"
      ],
      "execution_count": 0,
      "outputs": [
        {
          "output_type": "execute_result",
          "data": {
            "text/html": [
              "<div>\n",
              "<style scoped>\n",
              "    .dataframe tbody tr th:only-of-type {\n",
              "        vertical-align: middle;\n",
              "    }\n",
              "\n",
              "    .dataframe tbody tr th {\n",
              "        vertical-align: top;\n",
              "    }\n",
              "\n",
              "    .dataframe thead th {\n",
              "        text-align: right;\n",
              "    }\n",
              "</style>\n",
              "<table border=\"1\" class=\"dataframe\">\n",
              "  <thead>\n",
              "    <tr style=\"text-align: right;\">\n",
              "      <th></th>\n",
              "      <th>Unnamed: 0</th>\n",
              "      <th>User</th>\n",
              "      <th>Text</th>\n",
              "      <th>Scores</th>\n",
              "      <th>neg</th>\n",
              "      <th>neu</th>\n",
              "      <th>pos</th>\n",
              "      <th>compound</th>\n",
              "      <th>len</th>\n",
              "    </tr>\n",
              "  </thead>\n",
              "  <tbody>\n",
              "    <tr>\n",
              "      <th>0</th>\n",
              "      <td>0</td>\n",
              "      <td>thu2111</td>\n",
              "      <td>peopl criticis epidemiologist same? immedi hol...</td>\n",
              "      <td>{'neg': 0.142, 'neu': 0.828, 'pos': 0.03, 'com...</td>\n",
              "      <td>0.142</td>\n",
              "      <td>0.828</td>\n",
              "      <td>0.030</td>\n",
              "      <td>-0.9428</td>\n",
              "      <td>947</td>\n",
              "    </tr>\n",
              "    <tr>\n",
              "      <th>1</th>\n",
              "      <td>1</td>\n",
              "      <td>noisy_boy</td>\n",
              "      <td>like aliexpress time even chat manufacturer/di...</td>\n",
              "      <td>{'neg': 0.095, 'neu': 0.838, 'pos': 0.068, 'co...</td>\n",
              "      <td>0.095</td>\n",
              "      <td>0.838</td>\n",
              "      <td>0.068</td>\n",
              "      <td>-0.0000</td>\n",
              "      <td>270</td>\n",
              "    </tr>\n",
              "    <tr>\n",
              "      <th>2</th>\n",
              "      <td>2</td>\n",
              "      <td>lopis</td>\n",
              "      <td>realli matter. progress season slow enough get...</td>\n",
              "      <td>{'neg': 0.123, 'neu': 0.677, 'pos': 0.201, 'co...</td>\n",
              "      <td>0.123</td>\n",
              "      <td>0.677</td>\n",
              "      <td>0.201</td>\n",
              "      <td>0.4767</td>\n",
              "      <td>193</td>\n",
              "    </tr>\n",
              "    <tr>\n",
              "      <th>3</th>\n",
              "      <td>3</td>\n",
              "      <td>aexol</td>\n",
              "      <td>ad doc gener graphql editor. https://twitter.c...</td>\n",
              "      <td>{'neg': 0.0, 'neu': 1.0, 'pos': 0.0, 'compound...</td>\n",
              "      <td>0.000</td>\n",
              "      <td>1.000</td>\n",
              "      <td>0.000</td>\n",
              "      <td>0.0000</td>\n",
              "      <td>169</td>\n",
              "    </tr>\n",
              "    <tr>\n",
              "      <th>4</th>\n",
              "      <td>4</td>\n",
              "      <td>frockington1</td>\n",
              "      <td>haven;t seen non sensation evid regard long te...</td>\n",
              "      <td>{'neg': 0.0, 'neu': 1.0, 'pos': 0.0, 'compound...</td>\n",
              "      <td>0.000</td>\n",
              "      <td>1.000</td>\n",
              "      <td>0.000</td>\n",
              "      <td>0.0000</td>\n",
              "      <td>127</td>\n",
              "    </tr>\n",
              "    <tr>\n",
              "      <th>5</th>\n",
              "      <td>5</td>\n",
              "      <td>alpaca128</td>\n",
              "      <td>&gt; amazon compani reliabl show they'll deliver,...</td>\n",
              "      <td>{'neg': 0.049, 'neu': 0.841, 'pos': 0.11, 'com...</td>\n",
              "      <td>0.049</td>\n",
              "      <td>0.841</td>\n",
              "      <td>0.110</td>\n",
              "      <td>0.4215</td>\n",
              "      <td>360</td>\n",
              "    </tr>\n",
              "    <tr>\n",
              "      <th>6</th>\n",
              "      <td>6</td>\n",
              "      <td>alkonaut</td>\n",
              "      <td>normal water heater?apart simplest model might...</td>\n",
              "      <td>{'neg': 0.0, 'neu': 1.0, 'pos': 0.0, 'compound...</td>\n",
              "      <td>0.000</td>\n",
              "      <td>1.000</td>\n",
              "      <td>0.000</td>\n",
              "      <td>0.0000</td>\n",
              "      <td>149</td>\n",
              "    </tr>\n",
              "    <tr>\n",
              "      <th>7</th>\n",
              "      <td>7</td>\n",
              "      <td>giantg2</td>\n",
              "      <td>yes, that' textbook scenario make sens economi...</td>\n",
              "      <td>{'neg': 0.057, 'neu': 0.816, 'pos': 0.127, 'co...</td>\n",
              "      <td>0.057</td>\n",
              "      <td>0.816</td>\n",
              "      <td>0.127</td>\n",
              "      <td>0.8781</td>\n",
              "      <td>1161</td>\n",
              "    </tr>\n",
              "    <tr>\n",
              "      <th>8</th>\n",
              "      <td>8</td>\n",
              "      <td>9wzYQbTYsAIc</td>\n",
              "      <td>there’ someth javascript length files, group r...</td>\n",
              "      <td>{'neg': 0.0, 'neu': 0.945, 'pos': 0.055, 'comp...</td>\n",
              "      <td>0.000</td>\n",
              "      <td>0.945</td>\n",
              "      <td>0.055</td>\n",
              "      <td>0.1779</td>\n",
              "      <td>208</td>\n",
              "    </tr>\n",
              "    <tr>\n",
              "      <th>9</th>\n",
              "      <td>9</td>\n",
              "      <td>Jonnax</td>\n",
              "      <td>would researching?especi databas privat data.</td>\n",
              "      <td>{'neg': 0.0, 'neu': 1.0, 'pos': 0.0, 'compound...</td>\n",
              "      <td>0.000</td>\n",
              "      <td>1.000</td>\n",
              "      <td>0.000</td>\n",
              "      <td>0.0000</td>\n",
              "      <td>45</td>\n",
              "    </tr>\n",
              "  </tbody>\n",
              "</table>\n",
              "</div>"
            ],
            "text/plain": [
              "   Unnamed: 0          User  ... compound   len\n",
              "0           0       thu2111  ...  -0.9428   947\n",
              "1           1     noisy_boy  ...  -0.0000   270\n",
              "2           2         lopis  ...   0.4767   193\n",
              "3           3         aexol  ...   0.0000   169\n",
              "4           4  frockington1  ...   0.0000   127\n",
              "5           5     alpaca128  ...   0.4215   360\n",
              "6           6      alkonaut  ...   0.0000   149\n",
              "7           7       giantg2  ...   0.8781  1161\n",
              "8           8  9wzYQbTYsAIc  ...   0.1779   208\n",
              "9           9        Jonnax  ...   0.0000    45\n",
              "\n",
              "[10 rows x 9 columns]"
            ]
          },
          "metadata": {
            "tags": []
          },
          "execution_count": 17
        }
      ]
    },
    {
      "cell_type": "code",
      "metadata": {
        "id": "omPhMoyABhAi",
        "colab_type": "code",
        "outputId": "78c51214-0105-49f0-ee9f-a4f044814e23",
        "colab": {
          "base_uri": "https://localhost:8080/",
          "height": 518
        }
      },
      "source": [
        "#check\n",
        "df.head(10)"
      ],
      "execution_count": 0,
      "outputs": [
        {
          "output_type": "execute_result",
          "data": {
            "text/html": [
              "<div>\n",
              "<style scoped>\n",
              "    .dataframe tbody tr th:only-of-type {\n",
              "        vertical-align: middle;\n",
              "    }\n",
              "\n",
              "    .dataframe tbody tr th {\n",
              "        vertical-align: top;\n",
              "    }\n",
              "\n",
              "    .dataframe thead th {\n",
              "        text-align: right;\n",
              "    }\n",
              "</style>\n",
              "<table border=\"1\" class=\"dataframe\">\n",
              "  <thead>\n",
              "    <tr style=\"text-align: right;\">\n",
              "      <th></th>\n",
              "      <th>Unnamed: 0</th>\n",
              "      <th>User</th>\n",
              "      <th>Text</th>\n",
              "      <th>Scores</th>\n",
              "      <th>neg</th>\n",
              "      <th>neu</th>\n",
              "      <th>pos</th>\n",
              "      <th>compound</th>\n",
              "      <th>len</th>\n",
              "    </tr>\n",
              "  </thead>\n",
              "  <tbody>\n",
              "    <tr>\n",
              "      <th>0</th>\n",
              "      <td>0</td>\n",
              "      <td>thu2111</td>\n",
              "      <td>peopl criticis epidemiologist same? immedi hol...</td>\n",
              "      <td>{'neg': 0.142, 'neu': 0.828, 'pos': 0.03, 'com...</td>\n",
              "      <td>0.142</td>\n",
              "      <td>0.828</td>\n",
              "      <td>0.030</td>\n",
              "      <td>-0.9428</td>\n",
              "      <td>947</td>\n",
              "    </tr>\n",
              "    <tr>\n",
              "      <th>1</th>\n",
              "      <td>1</td>\n",
              "      <td>noisy_boy</td>\n",
              "      <td>like aliexpress time even chat manufacturer/di...</td>\n",
              "      <td>{'neg': 0.095, 'neu': 0.838, 'pos': 0.068, 'co...</td>\n",
              "      <td>0.095</td>\n",
              "      <td>0.838</td>\n",
              "      <td>0.068</td>\n",
              "      <td>-0.0000</td>\n",
              "      <td>270</td>\n",
              "    </tr>\n",
              "    <tr>\n",
              "      <th>2</th>\n",
              "      <td>2</td>\n",
              "      <td>lopis</td>\n",
              "      <td>realli matter. progress season slow enough get...</td>\n",
              "      <td>{'neg': 0.123, 'neu': 0.677, 'pos': 0.201, 'co...</td>\n",
              "      <td>0.123</td>\n",
              "      <td>0.677</td>\n",
              "      <td>0.201</td>\n",
              "      <td>0.4767</td>\n",
              "      <td>193</td>\n",
              "    </tr>\n",
              "    <tr>\n",
              "      <th>3</th>\n",
              "      <td>3</td>\n",
              "      <td>aexol</td>\n",
              "      <td>ad doc gener graphql editor. https://twitter.c...</td>\n",
              "      <td>{'neg': 0.0, 'neu': 1.0, 'pos': 0.0, 'compound...</td>\n",
              "      <td>0.000</td>\n",
              "      <td>1.000</td>\n",
              "      <td>0.000</td>\n",
              "      <td>0.0000</td>\n",
              "      <td>169</td>\n",
              "    </tr>\n",
              "    <tr>\n",
              "      <th>4</th>\n",
              "      <td>4</td>\n",
              "      <td>frockington1</td>\n",
              "      <td>haven;t seen non sensation evid regard long te...</td>\n",
              "      <td>{'neg': 0.0, 'neu': 1.0, 'pos': 0.0, 'compound...</td>\n",
              "      <td>0.000</td>\n",
              "      <td>1.000</td>\n",
              "      <td>0.000</td>\n",
              "      <td>0.0000</td>\n",
              "      <td>127</td>\n",
              "    </tr>\n",
              "    <tr>\n",
              "      <th>5</th>\n",
              "      <td>5</td>\n",
              "      <td>alpaca128</td>\n",
              "      <td>&gt; amazon compani reliabl show they'll deliver,...</td>\n",
              "      <td>{'neg': 0.049, 'neu': 0.841, 'pos': 0.11, 'com...</td>\n",
              "      <td>0.049</td>\n",
              "      <td>0.841</td>\n",
              "      <td>0.110</td>\n",
              "      <td>0.4215</td>\n",
              "      <td>360</td>\n",
              "    </tr>\n",
              "    <tr>\n",
              "      <th>6</th>\n",
              "      <td>6</td>\n",
              "      <td>alkonaut</td>\n",
              "      <td>normal water heater?apart simplest model might...</td>\n",
              "      <td>{'neg': 0.0, 'neu': 1.0, 'pos': 0.0, 'compound...</td>\n",
              "      <td>0.000</td>\n",
              "      <td>1.000</td>\n",
              "      <td>0.000</td>\n",
              "      <td>0.0000</td>\n",
              "      <td>149</td>\n",
              "    </tr>\n",
              "    <tr>\n",
              "      <th>7</th>\n",
              "      <td>7</td>\n",
              "      <td>giantg2</td>\n",
              "      <td>yes, that' textbook scenario make sens economi...</td>\n",
              "      <td>{'neg': 0.057, 'neu': 0.816, 'pos': 0.127, 'co...</td>\n",
              "      <td>0.057</td>\n",
              "      <td>0.816</td>\n",
              "      <td>0.127</td>\n",
              "      <td>0.8781</td>\n",
              "      <td>1161</td>\n",
              "    </tr>\n",
              "    <tr>\n",
              "      <th>8</th>\n",
              "      <td>8</td>\n",
              "      <td>9wzYQbTYsAIc</td>\n",
              "      <td>there’ someth javascript length files, group r...</td>\n",
              "      <td>{'neg': 0.0, 'neu': 0.945, 'pos': 0.055, 'comp...</td>\n",
              "      <td>0.000</td>\n",
              "      <td>0.945</td>\n",
              "      <td>0.055</td>\n",
              "      <td>0.1779</td>\n",
              "      <td>208</td>\n",
              "    </tr>\n",
              "    <tr>\n",
              "      <th>9</th>\n",
              "      <td>9</td>\n",
              "      <td>Jonnax</td>\n",
              "      <td>would researching?especi databas privat data.</td>\n",
              "      <td>{'neg': 0.0, 'neu': 1.0, 'pos': 0.0, 'compound...</td>\n",
              "      <td>0.000</td>\n",
              "      <td>1.000</td>\n",
              "      <td>0.000</td>\n",
              "      <td>0.0000</td>\n",
              "      <td>45</td>\n",
              "    </tr>\n",
              "  </tbody>\n",
              "</table>\n",
              "</div>"
            ],
            "text/plain": [
              "   Unnamed: 0          User  ... compound   len\n",
              "0           0       thu2111  ...  -0.9428   947\n",
              "1           1     noisy_boy  ...  -0.0000   270\n",
              "2           2         lopis  ...   0.4767   193\n",
              "3           3         aexol  ...   0.0000   169\n",
              "4           4  frockington1  ...   0.0000   127\n",
              "5           5     alpaca128  ...   0.4215   360\n",
              "6           6      alkonaut  ...   0.0000   149\n",
              "7           7       giantg2  ...   0.8781  1161\n",
              "8           8  9wzYQbTYsAIc  ...   0.1779   208\n",
              "9           9        Jonnax  ...   0.0000    45\n",
              "\n",
              "[10 rows x 9 columns]"
            ]
          },
          "metadata": {
            "tags": []
          },
          "execution_count": 18
        }
      ]
    },
    {
      "cell_type": "code",
      "metadata": {
        "id": "7MidyhAUBiah",
        "colab_type": "code",
        "colab": {}
      },
      "source": [
        "# #textblob\n",
        "# def textblob_score(sentence):\n",
        "#     return TextBlob(sentence).sentiment.polarity"
      ],
      "execution_count": 0,
      "outputs": []
    },
    {
      "cell_type": "code",
      "metadata": {
        "id": "5vIVimYcCcsS",
        "colab_type": "code",
        "colab": {}
      },
      "source": [
        "# # Convert textblob sentiment score\n",
        "# df['textblob_score'] = df['Text'].apply(textblob_score)\n",
        "# # Convert float score to category based on binning\n",
        "# df['textblob_pred'] = pd.cut(df['textblob_score'], bins=5, labels=[1, 2, 3, 4, 5])\n",
        "# df = df.drop('textblob_score', axis=1)\n",
        "# df.head()"
      ],
      "execution_count": 0,
      "outputs": []
    },
    {
      "cell_type": "code",
      "metadata": {
        "id": "VnIviltgCkf8",
        "colab_type": "code",
        "colab": {}
      },
      "source": [
        "#define analyzer\n",
        "vader = SentimentIntensityAnalyzer()\n",
        "def score_vader(sentence, vader):\n",
        "    return vader.polarity_scores(sentence)['compound']"
      ],
      "execution_count": 0,
      "outputs": []
    },
    {
      "cell_type": "code",
      "metadata": {
        "id": "vfWgOStjCmo7",
        "colab_type": "code",
        "outputId": "66abdc45-6d9e-478a-cbb3-2eb00864a37e",
        "colab": {
          "base_uri": "https://localhost:8080/",
          "height": 518
        }
      },
      "source": [
        "# Calculate Vader sentiment score\n",
        "df['vader_score'] = df['Text'].apply(lambda x: score_vader(x, vader))\n",
        "# Convert float score to category based on binning\n",
        "df['vader_pred'] = pd.cut(df['vader_score'], bins=5, labels=[1, 2, 3, 4, 5])\n",
        "df = df.drop('vader_score', axis=1)\n",
        "df.head(10)"
      ],
      "execution_count": 0,
      "outputs": [
        {
          "output_type": "execute_result",
          "data": {
            "text/html": [
              "<div>\n",
              "<style scoped>\n",
              "    .dataframe tbody tr th:only-of-type {\n",
              "        vertical-align: middle;\n",
              "    }\n",
              "\n",
              "    .dataframe tbody tr th {\n",
              "        vertical-align: top;\n",
              "    }\n",
              "\n",
              "    .dataframe thead th {\n",
              "        text-align: right;\n",
              "    }\n",
              "</style>\n",
              "<table border=\"1\" class=\"dataframe\">\n",
              "  <thead>\n",
              "    <tr style=\"text-align: right;\">\n",
              "      <th></th>\n",
              "      <th>Unnamed: 0</th>\n",
              "      <th>User</th>\n",
              "      <th>Text</th>\n",
              "      <th>Scores</th>\n",
              "      <th>neg</th>\n",
              "      <th>neu</th>\n",
              "      <th>pos</th>\n",
              "      <th>compound</th>\n",
              "      <th>len</th>\n",
              "      <th>vader_pred</th>\n",
              "    </tr>\n",
              "  </thead>\n",
              "  <tbody>\n",
              "    <tr>\n",
              "      <th>0</th>\n",
              "      <td>0</td>\n",
              "      <td>thu2111</td>\n",
              "      <td>peopl criticis epidemiologist same? immedi hol...</td>\n",
              "      <td>{'neg': 0.142, 'neu': 0.828, 'pos': 0.03, 'com...</td>\n",
              "      <td>0.142</td>\n",
              "      <td>0.828</td>\n",
              "      <td>0.030</td>\n",
              "      <td>-0.9428</td>\n",
              "      <td>947</td>\n",
              "      <td>1</td>\n",
              "    </tr>\n",
              "    <tr>\n",
              "      <th>1</th>\n",
              "      <td>1</td>\n",
              "      <td>noisy_boy</td>\n",
              "      <td>like aliexpress time even chat manufacturer/di...</td>\n",
              "      <td>{'neg': 0.095, 'neu': 0.838, 'pos': 0.068, 'co...</td>\n",
              "      <td>0.095</td>\n",
              "      <td>0.838</td>\n",
              "      <td>0.068</td>\n",
              "      <td>-0.0000</td>\n",
              "      <td>270</td>\n",
              "      <td>3</td>\n",
              "    </tr>\n",
              "    <tr>\n",
              "      <th>2</th>\n",
              "      <td>2</td>\n",
              "      <td>lopis</td>\n",
              "      <td>realli matter. progress season slow enough get...</td>\n",
              "      <td>{'neg': 0.123, 'neu': 0.677, 'pos': 0.201, 'co...</td>\n",
              "      <td>0.123</td>\n",
              "      <td>0.677</td>\n",
              "      <td>0.201</td>\n",
              "      <td>0.4767</td>\n",
              "      <td>193</td>\n",
              "      <td>4</td>\n",
              "    </tr>\n",
              "    <tr>\n",
              "      <th>3</th>\n",
              "      <td>3</td>\n",
              "      <td>aexol</td>\n",
              "      <td>ad doc gener graphql editor. https://twitter.c...</td>\n",
              "      <td>{'neg': 0.0, 'neu': 1.0, 'pos': 0.0, 'compound...</td>\n",
              "      <td>0.000</td>\n",
              "      <td>1.000</td>\n",
              "      <td>0.000</td>\n",
              "      <td>0.0000</td>\n",
              "      <td>169</td>\n",
              "      <td>3</td>\n",
              "    </tr>\n",
              "    <tr>\n",
              "      <th>4</th>\n",
              "      <td>4</td>\n",
              "      <td>frockington1</td>\n",
              "      <td>haven;t seen non sensation evid regard long te...</td>\n",
              "      <td>{'neg': 0.0, 'neu': 1.0, 'pos': 0.0, 'compound...</td>\n",
              "      <td>0.000</td>\n",
              "      <td>1.000</td>\n",
              "      <td>0.000</td>\n",
              "      <td>0.0000</td>\n",
              "      <td>127</td>\n",
              "      <td>3</td>\n",
              "    </tr>\n",
              "    <tr>\n",
              "      <th>5</th>\n",
              "      <td>5</td>\n",
              "      <td>alpaca128</td>\n",
              "      <td>&gt; amazon compani reliabl show they'll deliver,...</td>\n",
              "      <td>{'neg': 0.049, 'neu': 0.841, 'pos': 0.11, 'com...</td>\n",
              "      <td>0.049</td>\n",
              "      <td>0.841</td>\n",
              "      <td>0.110</td>\n",
              "      <td>0.4215</td>\n",
              "      <td>360</td>\n",
              "      <td>4</td>\n",
              "    </tr>\n",
              "    <tr>\n",
              "      <th>6</th>\n",
              "      <td>6</td>\n",
              "      <td>alkonaut</td>\n",
              "      <td>normal water heater?apart simplest model might...</td>\n",
              "      <td>{'neg': 0.0, 'neu': 1.0, 'pos': 0.0, 'compound...</td>\n",
              "      <td>0.000</td>\n",
              "      <td>1.000</td>\n",
              "      <td>0.000</td>\n",
              "      <td>0.0000</td>\n",
              "      <td>149</td>\n",
              "      <td>3</td>\n",
              "    </tr>\n",
              "    <tr>\n",
              "      <th>7</th>\n",
              "      <td>7</td>\n",
              "      <td>giantg2</td>\n",
              "      <td>yes, that' textbook scenario make sens economi...</td>\n",
              "      <td>{'neg': 0.057, 'neu': 0.816, 'pos': 0.127, 'co...</td>\n",
              "      <td>0.057</td>\n",
              "      <td>0.816</td>\n",
              "      <td>0.127</td>\n",
              "      <td>0.8781</td>\n",
              "      <td>1161</td>\n",
              "      <td>5</td>\n",
              "    </tr>\n",
              "    <tr>\n",
              "      <th>8</th>\n",
              "      <td>8</td>\n",
              "      <td>9wzYQbTYsAIc</td>\n",
              "      <td>there’ someth javascript length files, group r...</td>\n",
              "      <td>{'neg': 0.0, 'neu': 0.945, 'pos': 0.055, 'comp...</td>\n",
              "      <td>0.000</td>\n",
              "      <td>0.945</td>\n",
              "      <td>0.055</td>\n",
              "      <td>0.1779</td>\n",
              "      <td>208</td>\n",
              "      <td>3</td>\n",
              "    </tr>\n",
              "    <tr>\n",
              "      <th>9</th>\n",
              "      <td>9</td>\n",
              "      <td>Jonnax</td>\n",
              "      <td>would researching?especi databas privat data.</td>\n",
              "      <td>{'neg': 0.0, 'neu': 1.0, 'pos': 0.0, 'compound...</td>\n",
              "      <td>0.000</td>\n",
              "      <td>1.000</td>\n",
              "      <td>0.000</td>\n",
              "      <td>0.0000</td>\n",
              "      <td>45</td>\n",
              "      <td>3</td>\n",
              "    </tr>\n",
              "  </tbody>\n",
              "</table>\n",
              "</div>"
            ],
            "text/plain": [
              "   Unnamed: 0          User  ...   len vader_pred\n",
              "0           0       thu2111  ...   947          1\n",
              "1           1     noisy_boy  ...   270          3\n",
              "2           2         lopis  ...   193          4\n",
              "3           3         aexol  ...   169          3\n",
              "4           4  frockington1  ...   127          3\n",
              "5           5     alpaca128  ...   360          4\n",
              "6           6      alkonaut  ...   149          3\n",
              "7           7       giantg2  ...  1161          5\n",
              "8           8  9wzYQbTYsAIc  ...   208          3\n",
              "9           9        Jonnax  ...    45          3\n",
              "\n",
              "[10 rows x 10 columns]"
            ]
          },
          "metadata": {
            "tags": []
          },
          "execution_count": 23
        }
      ]
    },
    {
      "cell_type": "code",
      "metadata": {
        "id": "n3Mk3aE1n7iy",
        "colab_type": "code",
        "outputId": "06c2402f-d72e-4657-d6e2-0cbb05108760",
        "colab": {
          "base_uri": "https://localhost:8080/",
          "height": 336
        }
      },
      "source": [
        "csv = 'saltyhacker.csv'\n",
        "term_freq_df = pd.read_csv(csv,index_col=0)\n",
        "term_freq_df.sort_values(by='User', ascending=False).iloc[:10]"
      ],
      "execution_count": 0,
      "outputs": [
        {
          "output_type": "execute_result",
          "data": {
            "text/html": [
              "<div>\n",
              "<style scoped>\n",
              "    .dataframe tbody tr th:only-of-type {\n",
              "        vertical-align: middle;\n",
              "    }\n",
              "\n",
              "    .dataframe tbody tr th {\n",
              "        vertical-align: top;\n",
              "    }\n",
              "\n",
              "    .dataframe thead th {\n",
              "        text-align: right;\n",
              "    }\n",
              "</style>\n",
              "<table border=\"1\" class=\"dataframe\">\n",
              "  <thead>\n",
              "    <tr style=\"text-align: right;\">\n",
              "      <th></th>\n",
              "      <th>User</th>\n",
              "      <th>Text</th>\n",
              "    </tr>\n",
              "  </thead>\n",
              "  <tbody>\n",
              "    <tr>\n",
              "      <th>41</th>\n",
              "      <td>zynkb0a</td>\n",
              "      <td>When I read your comment, I realized I intuiti...</td>\n",
              "    </tr>\n",
              "    <tr>\n",
              "      <th>1665</th>\n",
              "      <td>zynkb0a</td>\n",
              "      <td>What is the significance of SoftBank financing...</td>\n",
              "    </tr>\n",
              "    <tr>\n",
              "      <th>1439</th>\n",
              "      <td>zynkb0a</td>\n",
              "      <td>&amp;gt;people&amp;#x27;s lives can be ruined, or at l...</td>\n",
              "    </tr>\n",
              "    <tr>\n",
              "      <th>1615</th>\n",
              "      <td>zynkb0a</td>\n",
              "      <td>I don&amp;#x27;t necessarily disagree, but can one...</td>\n",
              "    </tr>\n",
              "    <tr>\n",
              "      <th>1674</th>\n",
              "      <td>zxcmx</td>\n",
              "      <td>I don&amp;#x27;t see any particular moral value in...</td>\n",
              "    </tr>\n",
              "    <tr>\n",
              "      <th>1126</th>\n",
              "      <td>zozbot234</td>\n",
              "      <td>&amp;gt; I seriously doubt either game shipped wit...</td>\n",
              "    </tr>\n",
              "    <tr>\n",
              "      <th>40</th>\n",
              "      <td>zozbot234</td>\n",
              "      <td>There are plenty of freely-available works tha...</td>\n",
              "    </tr>\n",
              "    <tr>\n",
              "      <th>117</th>\n",
              "      <td>zooli</td>\n",
              "      <td>yeah, it&amp;#x27;s a maypole, from &lt;a href=\"https...</td>\n",
              "    </tr>\n",
              "    <tr>\n",
              "      <th>28</th>\n",
              "      <td>zonefuenf</td>\n",
              "      <td>We mostly use (bad) English in programming con...</td>\n",
              "    </tr>\n",
              "    <tr>\n",
              "      <th>366</th>\n",
              "      <td>zokier</td>\n",
              "      <td>Thats weird &amp;quot;reference&amp;quot;. Why 8 as th...</td>\n",
              "    </tr>\n",
              "  </tbody>\n",
              "</table>\n",
              "</div>"
            ],
            "text/plain": [
              "           User                                               Text\n",
              "41      zynkb0a  When I read your comment, I realized I intuiti...\n",
              "1665    zynkb0a  What is the significance of SoftBank financing...\n",
              "1439    zynkb0a  &gt;people&#x27;s lives can be ruined, or at l...\n",
              "1615    zynkb0a  I don&#x27;t necessarily disagree, but can one...\n",
              "1674      zxcmx  I don&#x27;t see any particular moral value in...\n",
              "1126  zozbot234  &gt; I seriously doubt either game shipped wit...\n",
              "40    zozbot234  There are plenty of freely-available works tha...\n",
              "117       zooli  yeah, it&#x27;s a maypole, from <a href=\"https...\n",
              "28    zonefuenf  We mostly use (bad) English in programming con...\n",
              "366      zokier  Thats weird &quot;reference&quot;. Why 8 as th..."
            ]
          },
          "metadata": {
            "tags": []
          },
          "execution_count": 30
        }
      ]
    },
    {
      "cell_type": "code",
      "metadata": {
        "id": "lV_vbZqgrPf_",
        "colab_type": "code",
        "colab": {}
      },
      "source": [
        ""
      ],
      "execution_count": 0,
      "outputs": []
    }
  ]
}